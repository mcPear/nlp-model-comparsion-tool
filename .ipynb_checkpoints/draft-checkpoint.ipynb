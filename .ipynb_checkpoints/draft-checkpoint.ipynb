{
 "cells": [
  {
   "cell_type": "code",
   "execution_count": 5,
   "metadata": {},
   "outputs": [],
   "source": [
    "import numpy as np\n",
    "import pandas as pd\n",
    "\n",
    "def common_cols():\n",
    "    return ['Tweet', 'Label']\n",
    "\n",
    "def models():\n",
    "    return ['cnn', 'lstm', 'fasttext', 'pretrained ft']\n",
    "\n",
    "def df_cols():\n",
    "    return common_cols()+models()\n",
    "\n",
    "def load_all():\n",
    "    pred_cnn_l4 = np.load(\"data/cnn_predict_4.pkl\", allow_pickle=True)\n",
    "    pred_lstm_l4 = np.load(\"data/four_label_df.pickle\", allow_pickle=True)\n",
    "    pred_fasttext_l4 = np.load(\"data/fasttext_predict_4.pkl\", allow_pickle=True)\n",
    "    pred_fasttext_pretrained_l4 = np.load(\"data/fasttext_pre_predict_4.pkl\", allow_pickle=True)\n",
    "\n",
    "    pred_cnn_l3 = np.load(\"data/cnn_predict_3.pkl\", allow_pickle=True)\n",
    "    pred_lstm_l3 = np.load(\"data/three_label_df.pickle\", allow_pickle=True)\n",
    "    pred_fasttext_l3 = np.load(\"data/fasttext_predict_3.pkl\", allow_pickle=True)\n",
    "    pred_fasttext_pretrained_l3 = np.load(\"data/fasttext_pre_predict_3.pkl\", allow_pickle=True)\n",
    "    \n",
    "    print(pred_lstm_l4)\n",
    "    \n",
    "    return pred_cnn_l4,pred_lstm_l4,pred_fasttext_l4,pred_fasttext_pretrained_l4,pred_cnn_l3,pred_lstm_l3,pred_fasttext_l3,pred_fasttext_pretrained_l3\n",
    "\n",
    "def format_(arr):\n",
    "    return arr.iloc[:, 0:3]\n",
    "\n",
    "def merge_all():\n",
    "    pred_cnn_l4,pred_lstm_l4,pred_fasttext_l4,pred_fasttext_pretrained_l4,pred_cnn_l3,pred_lstm_l3,pred_fasttext_l3,pred_fasttext_pretrained_l3 = load_all()\n",
    "    \n",
    "    pred_cnn_l4 = format_(pred_cnn_l4)\n",
    "    pred_lstm_l4 = format_(pred_lstm_l4)\n",
    "    pred_fasttext_l4 = format_(pred_fasttext_l4)\n",
    "    pred_fasttext_pretrained_l4 = format_(pred_fasttext_pretrained_l4)\n",
    "    \n",
    "    pred_cnn_l3 = format_(pred_cnn_l3)\n",
    "    pred_lstm_l3 = format_(pred_lstm_l3)\n",
    "    pred_fasttext_l3 = format_(pred_fasttext_l3)\n",
    "    pred_fasttext_pretrained_l3 = format_(pred_fasttext_pretrained_l3)\n",
    "\n",
    "    tuple_l4=(pred_cnn_l4, pred_lstm_l4.iloc[:, -1:], pred_fasttext_l4.iloc[:, -1:], pred_fasttext_pretrained_l4.iloc[:, -1:])\n",
    "    pred_l4 = np.concatenate(tuple_l4, axis=1)\n",
    "    \n",
    "    tuple_l3=(pred_cnn_l3, pred_lstm_l3.iloc[:, -1:], pred_fasttext_l3.iloc[:, -1:], pred_fasttext_pretrained_l3.iloc[:, -1:])\n",
    "    pred_l3 = np.concatenate(tuple_l3, axis=1)\n",
    "    \n",
    "    df_l4 = pd.DataFrame(data=pred_l4, columns=df_cols())\n",
    "    df_l3 = pd.DataFrame(data=pred_l3, columns=df_cols())\n",
    "    return df_l4, df_l3\n",
    "\n",
    "def label_ordered_models():\n",
    "    return ['cnn (4 labels)','lstm (4 labels)','fasttext (4 labels)','pretrained ft (4 labels)','cnn (3 labels)','lstm (3 labels)','fasttext (3 labels)','pretrained_ft (3 labels)']\n",
    "\n",
    "def confusion_matrix_preprocessed():\n",
    "    result=[]\n",
    "    models = load_all()\n",
    "    names = label_ordered_models()\n",
    "    \n",
    "    for i in range(len(models)):\n",
    "        result.append((models[i][:,1:3], names[i]))\n",
    "    return result"
   ]
  },
  {
   "cell_type": "code",
   "execution_count": 6,
   "metadata": {},
   "outputs": [
    {
     "name": "stdout",
     "output_type": "stream",
     "text": [
      "                                         tweet_content label   prediction\n",
      "0    Do niego nie dotrz3 , to pedał , dzieci mieć n...     2  NOT_SUPPORT\n",
      "1    Niczego lepszego dziś już nie przeczytacie, hi...     0      SUPPORT\n",
      "2    #CzarnyProtest #StopTheBans #StrajkKobiet pic....     3      SUPPORT\n",
      "3    #aborcja to morderstwo ze szczególnym okrucień...     2  NOT_SUPPORT\n",
      "4    “Is it permissible to eliminate a human life t...     0  CANT_DEFINE\n",
      "..                                                 ...   ...          ...\n",
      "389  Rząd chwali się #CiążaPlus, a tymczasem obywat...     2  NOT_SUPPORT\n",
      "390   http://www.krakowpost.com/13508/2016/09/black...     3  CANT_DEFINE\n",
      "391  Niebotyczne musi być spłaszczenie postrzegania...     1  CANT_DEFINE\n",
      "392  Kontra obrońców życia pod Sejmem przeciwko tzw...     2  NOT_SUPPORT\n",
      "393  Sprawdź ➡️ http://www.czarnyprotest.pl ! ♀️🚺#C...     3      SUPPORT\n",
      "\n",
      "[394 rows x 3 columns]\n",
      "(394, 3)\n",
      "(394, 3)\n",
      "(394, 3)\n",
      "(394, 3)\n",
      "(394, 3)\n",
      "(394, 3)\n",
      "(394, 3)\n",
      "(394, 3)\n"
     ]
    }
   ],
   "source": [
    "models = load_all()\n",
    "for model in models:\n",
    "    print(model.shape)"
   ]
  },
  {
   "cell_type": "code",
   "execution_count": null,
   "metadata": {},
   "outputs": [],
   "source": []
  }
 ],
 "metadata": {
  "kernelspec": {
   "display_name": "Python 3",
   "language": "python",
   "name": "python3"
  },
  "language_info": {
   "codemirror_mode": {
    "name": "ipython",
    "version": 3
   },
   "file_extension": ".py",
   "mimetype": "text/x-python",
   "name": "python",
   "nbconvert_exporter": "python",
   "pygments_lexer": "ipython3",
   "version": "3.7.3"
  }
 },
 "nbformat": 4,
 "nbformat_minor": 2
}
